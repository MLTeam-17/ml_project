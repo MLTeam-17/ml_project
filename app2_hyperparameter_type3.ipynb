{
 "cells": [
  {
   "cell_type": "markdown",
   "metadata": {},
   "source": [
    "### kaggle 집값 예측 문제\n",
    "\n",
    "columns\n",
    "\n",
    "- `house_id` - 주택 id변수\n",
    "- `date` - 판매된 날자\n",
    "- `location` - 주택 위치\n",
    "- `type` - 주택 유형 (\"2 ROOM\", \"3 ROOM\", \"4 ROOM\", \"5 ROOM\", \"EXECUTIVE\")\n",
    "- `block` - 주택이 위치한 블록\n",
    "- `street` - 주택이 위치한 거리\n",
    "- `storey_range` - 주택이 위치한 층 범위\n",
    "- `area_sqm\t` - 주택의 면적\n",
    "- `flat_model` - 주택의 모델(구조, 방 배치 등)\n",
    "- `commence_date` - 주택이 판매에 올라온 날짜\n",
    "- `price` - 판매 가격 (목표 변수)\n",
    "\n",
    "additional columns\n",
    "\n",
    "- `type_num` - 방의 개수\n",
    "- `area_per_room` - 방 하나당 평균 면적\n",
    "- `adress` - 주소\n",
    "- `Year` - 판매 연도\n",
    "- `Month` - 판매 월\n",
    "- `time_to_sell` - 판매까지 걸린 연도\n",
    "- `interest_rate` - 집이 팔린 당시의 금리\n",
    "\n",
    "delete columns\n",
    "- `price_per_unitarea` - 단위면적(1m^2)당 가격\n",
    "- `price_per_room` - 방하나당 평균 가격\n",
    "\n",
    "다양한 변수를 사용하여 짒값을 예측한다"
   ]
  },
  {
   "cell_type": "markdown",
   "metadata": {},
   "source": [
    "### 모델링\n",
    "- pc 리소스 부족으로 모델링을 따로 때어내어 진행"
   ]
  },
  {
   "cell_type": "code",
   "execution_count": 1,
   "metadata": {},
   "outputs": [],
   "source": [
    "import pandas as pd\n",
    "import numpy as np\n",
    "import matplotlib.pyplot as plt\n",
    "import seaborn as sns\n",
    "from sklearn.model_selection import train_test_split\n",
    "from sklearn.preprocessing import MinMaxScaler\n",
    "from sklearn.linear_model import LinearRegression\n",
    "from sklearn.metrics import r2_score, mean_absolute_error\n",
    "from sklearn.preprocessing import LabelEncoder\n",
    "\n",
    "from sklearn.ensemble import RandomForestRegressor\n",
    "from sklearn.model_selection import  cross_val_score\n",
    "\n",
    "import seaborn as sns\n",
    "import gc"
   ]
  },
  {
   "cell_type": "markdown",
   "metadata": {},
   "source": [
    "### 전처리 데이터 로드"
   ]
  },
  {
   "cell_type": "code",
   "execution_count": 2,
   "metadata": {},
   "outputs": [],
   "source": [
    "# 전처리 데이터 로드\n",
    "train = pd.read_pickle('Data/data.pkl')"
   ]
  },
  {
   "cell_type": "code",
   "execution_count": 21,
   "metadata": {},
   "outputs": [
    {
     "data": {
      "text/html": [
       "<div>\n",
       "<style scoped>\n",
       "    .dataframe tbody tr th:only-of-type {\n",
       "        vertical-align: middle;\n",
       "    }\n",
       "\n",
       "    .dataframe tbody tr th {\n",
       "        vertical-align: top;\n",
       "    }\n",
       "\n",
       "    .dataframe thead th {\n",
       "        text-align: right;\n",
       "    }\n",
       "</style>\n",
       "<table border=\"1\" class=\"dataframe\">\n",
       "  <thead>\n",
       "    <tr style=\"text-align: right;\">\n",
       "      <th></th>\n",
       "      <th>house_id</th>\n",
       "      <th>type</th>\n",
       "      <th>street</th>\n",
       "      <th>storey_range</th>\n",
       "      <th>area_sqm</th>\n",
       "      <th>flat_model</th>\n",
       "      <th>commence_date</th>\n",
       "      <th>price</th>\n",
       "      <th>type_num</th>\n",
       "      <th>area_per_room</th>\n",
       "      <th>adress</th>\n",
       "      <th>Year</th>\n",
       "      <th>Month</th>\n",
       "      <th>time_to_sell</th>\n",
       "      <th>interest_rate</th>\n",
       "    </tr>\n",
       "  </thead>\n",
       "  <tbody>\n",
       "    <tr>\n",
       "      <th>0</th>\n",
       "      <td>199577</td>\n",
       "      <td>4</td>\n",
       "      <td>26</td>\n",
       "      <td>2</td>\n",
       "      <td>0.325397</td>\n",
       "      <td>3</td>\n",
       "      <td>37</td>\n",
       "      <td>313000.0</td>\n",
       "      <td>1.00</td>\n",
       "      <td>0.085474</td>\n",
       "      <td>5446</td>\n",
       "      <td>6</td>\n",
       "      <td>8</td>\n",
       "      <td>0.086957</td>\n",
       "      <td>0.80</td>\n",
       "    </tr>\n",
       "    <tr>\n",
       "      <th>1</th>\n",
       "      <td>217021</td>\n",
       "      <td>2</td>\n",
       "      <td>102</td>\n",
       "      <td>2</td>\n",
       "      <td>0.142857</td>\n",
       "      <td>13</td>\n",
       "      <td>22</td>\n",
       "      <td>167000.0</td>\n",
       "      <td>0.50</td>\n",
       "      <td>0.076923</td>\n",
       "      <td>2699</td>\n",
       "      <td>7</td>\n",
       "      <td>5</td>\n",
       "      <td>0.434783</td>\n",
       "      <td>0.80</td>\n",
       "    </tr>\n",
       "    <tr>\n",
       "      <th>2</th>\n",
       "      <td>308062</td>\n",
       "      <td>3</td>\n",
       "      <td>146</td>\n",
       "      <td>3</td>\n",
       "      <td>0.253968</td>\n",
       "      <td>10</td>\n",
       "      <td>10</td>\n",
       "      <td>430000.0</td>\n",
       "      <td>0.75</td>\n",
       "      <td>0.098295</td>\n",
       "      <td>7475</td>\n",
       "      <td>10</td>\n",
       "      <td>8</td>\n",
       "      <td>0.760870</td>\n",
       "      <td>0.00</td>\n",
       "    </tr>\n",
       "    <tr>\n",
       "      <th>3</th>\n",
       "      <td>212465</td>\n",
       "      <td>3</td>\n",
       "      <td>333</td>\n",
       "      <td>3</td>\n",
       "      <td>0.253968</td>\n",
       "      <td>10</td>\n",
       "      <td>11</td>\n",
       "      <td>303800.0</td>\n",
       "      <td>0.75</td>\n",
       "      <td>0.098295</td>\n",
       "      <td>986</td>\n",
       "      <td>7</td>\n",
       "      <td>3</td>\n",
       "      <td>0.673913</td>\n",
       "      <td>0.80</td>\n",
       "    </tr>\n",
       "    <tr>\n",
       "      <th>4</th>\n",
       "      <td>60654</td>\n",
       "      <td>3</td>\n",
       "      <td>32</td>\n",
       "      <td>1</td>\n",
       "      <td>0.293651</td>\n",
       "      <td>6</td>\n",
       "      <td>32</td>\n",
       "      <td>212000.0</td>\n",
       "      <td>0.75</td>\n",
       "      <td>0.130346</td>\n",
       "      <td>3347</td>\n",
       "      <td>1</td>\n",
       "      <td>9</td>\n",
       "      <td>0.086957</td>\n",
       "      <td>0.44</td>\n",
       "    </tr>\n",
       "    <tr>\n",
       "      <th>...</th>\n",
       "      <td>...</td>\n",
       "      <td>...</td>\n",
       "      <td>...</td>\n",
       "      <td>...</td>\n",
       "      <td>...</td>\n",
       "      <td>...</td>\n",
       "      <td>...</td>\n",
       "      <td>...</td>\n",
       "      <td>...</td>\n",
       "      <td>...</td>\n",
       "      <td>...</td>\n",
       "      <td>...</td>\n",
       "      <td>...</td>\n",
       "      <td>...</td>\n",
       "      <td>...</td>\n",
       "    </tr>\n",
       "    <tr>\n",
       "      <th>271716</th>\n",
       "      <td>101563</td>\n",
       "      <td>3</td>\n",
       "      <td>407</td>\n",
       "      <td>1</td>\n",
       "      <td>0.297619</td>\n",
       "      <td>6</td>\n",
       "      <td>23</td>\n",
       "      <td>232000.0</td>\n",
       "      <td>0.75</td>\n",
       "      <td>0.133551</td>\n",
       "      <td>4958</td>\n",
       "      <td>3</td>\n",
       "      <td>0</td>\n",
       "      <td>0.326087</td>\n",
       "      <td>0.16</td>\n",
       "    </tr>\n",
       "    <tr>\n",
       "      <th>271717</th>\n",
       "      <td>28297</td>\n",
       "      <td>4</td>\n",
       "      <td>50</td>\n",
       "      <td>3</td>\n",
       "      <td>0.420635</td>\n",
       "      <td>6</td>\n",
       "      <td>30</td>\n",
       "      <td>428000.0</td>\n",
       "      <td>1.00</td>\n",
       "      <td>0.147013</td>\n",
       "      <td>5053</td>\n",
       "      <td>0</td>\n",
       "      <td>10</td>\n",
       "      <td>0.108696</td>\n",
       "      <td>1.00</td>\n",
       "    </tr>\n",
       "    <tr>\n",
       "      <th>271718</th>\n",
       "      <td>321995</td>\n",
       "      <td>4</td>\n",
       "      <td>215</td>\n",
       "      <td>4</td>\n",
       "      <td>0.357143</td>\n",
       "      <td>3</td>\n",
       "      <td>38</td>\n",
       "      <td>548888.0</td>\n",
       "      <td>1.00</td>\n",
       "      <td>0.105987</td>\n",
       "      <td>1507</td>\n",
       "      <td>11</td>\n",
       "      <td>3</td>\n",
       "      <td>0.173913</td>\n",
       "      <td>0.00</td>\n",
       "    </tr>\n",
       "    <tr>\n",
       "      <th>271719</th>\n",
       "      <td>308162</td>\n",
       "      <td>3</td>\n",
       "      <td>243</td>\n",
       "      <td>4</td>\n",
       "      <td>0.246032</td>\n",
       "      <td>8</td>\n",
       "      <td>33</td>\n",
       "      <td>360000.0</td>\n",
       "      <td>0.75</td>\n",
       "      <td>0.091885</td>\n",
       "      <td>2810</td>\n",
       "      <td>10</td>\n",
       "      <td>8</td>\n",
       "      <td>0.260870</td>\n",
       "      <td>0.00</td>\n",
       "    </tr>\n",
       "    <tr>\n",
       "      <th>271720</th>\n",
       "      <td>225691</td>\n",
       "      <td>5</td>\n",
       "      <td>484</td>\n",
       "      <td>1</td>\n",
       "      <td>0.456349</td>\n",
       "      <td>2</td>\n",
       "      <td>27</td>\n",
       "      <td>450000.0</td>\n",
       "      <td>0.75</td>\n",
       "      <td>0.261756</td>\n",
       "      <td>3894</td>\n",
       "      <td>7</td>\n",
       "      <td>9</td>\n",
       "      <td>0.326087</td>\n",
       "      <td>0.72</td>\n",
       "    </tr>\n",
       "  </tbody>\n",
       "</table>\n",
       "<p>271721 rows × 15 columns</p>\n",
       "</div>"
      ],
      "text/plain": [
       "        house_id  type  street  storey_range  area_sqm  flat_model  \\\n",
       "0         199577     4      26             2  0.325397           3   \n",
       "1         217021     2     102             2  0.142857          13   \n",
       "2         308062     3     146             3  0.253968          10   \n",
       "3         212465     3     333             3  0.253968          10   \n",
       "4          60654     3      32             1  0.293651           6   \n",
       "...          ...   ...     ...           ...       ...         ...   \n",
       "271716    101563     3     407             1  0.297619           6   \n",
       "271717     28297     4      50             3  0.420635           6   \n",
       "271718    321995     4     215             4  0.357143           3   \n",
       "271719    308162     3     243             4  0.246032           8   \n",
       "271720    225691     5     484             1  0.456349           2   \n",
       "\n",
       "        commence_date     price  type_num  area_per_room  adress  Year  Month  \\\n",
       "0                  37  313000.0      1.00       0.085474    5446     6      8   \n",
       "1                  22  167000.0      0.50       0.076923    2699     7      5   \n",
       "2                  10  430000.0      0.75       0.098295    7475    10      8   \n",
       "3                  11  303800.0      0.75       0.098295     986     7      3   \n",
       "4                  32  212000.0      0.75       0.130346    3347     1      9   \n",
       "...               ...       ...       ...            ...     ...   ...    ...   \n",
       "271716             23  232000.0      0.75       0.133551    4958     3      0   \n",
       "271717             30  428000.0      1.00       0.147013    5053     0     10   \n",
       "271718             38  548888.0      1.00       0.105987    1507    11      3   \n",
       "271719             33  360000.0      0.75       0.091885    2810    10      8   \n",
       "271720             27  450000.0      0.75       0.261756    3894     7      9   \n",
       "\n",
       "        time_to_sell  interest_rate  \n",
       "0           0.086957           0.80  \n",
       "1           0.434783           0.80  \n",
       "2           0.760870           0.00  \n",
       "3           0.673913           0.80  \n",
       "4           0.086957           0.44  \n",
       "...              ...            ...  \n",
       "271716      0.326087           0.16  \n",
       "271717      0.108696           1.00  \n",
       "271718      0.173913           0.00  \n",
       "271719      0.260870           0.00  \n",
       "271720      0.326087           0.72  \n",
       "\n",
       "[271721 rows x 15 columns]"
      ]
     },
     "execution_count": 21,
     "metadata": {},
     "output_type": "execute_result"
    }
   ],
   "source": [
    "train"
   ]
  },
  {
   "cell_type": "code",
   "execution_count": 3,
   "metadata": {},
   "outputs": [],
   "source": [
    "# 데이터 분할\n",
    "X = train.drop('price', axis = 1)\n",
    "y = train['price']\n",
    "\n",
    "X_train, X_test, y_train, y_test = train_test_split(X, y, test_size=0.2, random_state=42)"
   ]
  },
  {
   "cell_type": "markdown",
   "metadata": {},
   "source": [
    "### 학습 진행"
   ]
  },
  {
   "cell_type": "code",
   "execution_count": 23,
   "metadata": {},
   "outputs": [],
   "source": [
    "# 모든 모델들에 대하여 예측을 진행하고 리스트로 저장\n",
    "y_pred_train_list = []\n",
    "y_pred_test_list = []\n",
    "train_mae_list = []\n",
    "test_mae_list = []\n",
    "train_r2_list = []\n",
    "test_r2_list = []"
   ]
  },
  {
   "cell_type": "code",
   "execution_count": 22,
   "metadata": {},
   "outputs": [],
   "source": [
    "def learning_model(learning_time):\n",
    "    model = RandomForestRegressor(\n",
    "        n_estimators= learning_time,\n",
    "        random_state=42\n",
    "    )\n",
    "\n",
    "    model.fit(X_train, y_train)\n",
    "\n",
    "    y_pred_train = model.predict(X_train)\n",
    "    y_pred_test = model.predict(X_test)\n",
    "\n",
    "    train_mae = mean_absolute_error(y_train, y_pred_train)\n",
    "    test_mae = mean_absolute_error(y_test, y_pred_test)\n",
    "    train_r2 = r2_score(y_train, y_pred_train)\n",
    "    test_r2 = r2_score(y_test, y_pred_test)\n",
    "\n",
    "    y_pred_train_list.append(y_pred_train)\n",
    "    y_pred_test_list.append(y_pred_test)\n",
    "\n",
    "    train_mae_list.append(train_mae)\n",
    "    test_mae_list.append(test_mae)\n",
    "    train_r2_list.append(train_r2)\n",
    "    test_r2_list.append(test_r2)\n",
    "\n",
    "\n",
    "    print(f'{learning_time} done')\n",
    "\n",
    "    del model"
   ]
  },
  {
   "cell_type": "code",
   "execution_count": 15,
   "metadata": {},
   "outputs": [],
   "source": [
    "learning_times = [50, 100, 200, 400, 600, 800, 1000]"
   ]
  },
  {
   "cell_type": "code",
   "execution_count": null,
   "metadata": {},
   "outputs": [],
   "source": [
    "for learning_time in learning_times:\n",
    "    learning_model(learning_time)"
   ]
  },
  {
   "cell_type": "markdown",
   "metadata": {},
   "source": [
    "##### 결과확인\n",
    "\n",
    "- 학습 횟수가 늘수록 test 데이터의 MAE값이 감소하는 경향을 보임"
   ]
  },
  {
   "cell_type": "code",
   "execution_count": 17,
   "metadata": {},
   "outputs": [
    {
     "data": {
      "text/plain": [
       "<Figure size 1600x600 with 0 Axes>"
      ]
     },
     "metadata": {},
     "output_type": "display_data"
    },
    {
     "data": {
      "image/png": "[encoded data removed]",
      "text/plain": [
       "<Figure size 1600x600 with 1 Axes>"
      ]
     },
     "metadata": {},
     "output_type": "display_data"
    }
   ],
   "source": [
    "# 각 학습 횟수에 따른 MAE 시각화\n",
    "\n",
    "plt.figure(figsize=(16, 6))\n",
    "fig, ax = plt.subplots( figsize=(16,6) )\n",
    "\n",
    "sns.barplot(x = learning_times, y = test_mae_list)\n",
    "\n",
    "for p in ax.patches:\n",
    "    ax.text(p.get_x() + (p.get_width()/2) ,   # 가로 위치\n",
    "            p.get_y() + p.get_height(),   # 세로 위치\n",
    "            f\"{p.get_height():.4f}\",     # 값 + 표시방법 소수 넷째자리까지 \n",
    "            ha = 'center' )   # 좌우정렬 중간으로\n",
    "\n",
    "plt.xlabel('Learning times')\n",
    "plt.ylabel('MAE value')\n",
    "plt.title('MAE value according to Learning times')\n",
    "plt.show()"
   ]
  },
  {
   "cell_type": "code",
   "execution_count": 16,
   "metadata": {},
   "outputs": [
    {
     "data": {
      "text/plain": [
       "<Figure size 1600x600 with 0 Axes>"
      ]
     },
     "metadata": {},
     "output_type": "display_data"
    },
    {
     "data": {
      "image/png": "[encoded data removed]",
      "text/plain": [
       "<Figure size 1600x600 with 1 Axes>"
      ]
     },
     "metadata": {},
     "output_type": "display_data"
    }
   ],
   "source": [
    "# 각 학습 횟수에 따른 R2 score 시각화\n",
    "\n",
    "plt.figure(figsize=(16, 6))\n",
    "fig, ax = plt.subplots( figsize=(16,6) )\n",
    "\n",
    "sns.barplot(x = learning_times, y = test_r2_list)\n",
    "\n",
    "for p in ax.patches:\n",
    "    ax.text(p.get_x() + (p.get_width()/2) ,   # 가로 위치\n",
    "            p.get_y() + p.get_height(),   # 세로 위치\n",
    "            f\"{p.get_height():.6f}\",     # 값 + 표시방법 소수 둘째자리까지 \n",
    "            ha = 'center' )   # 좌우정렬 중간으로\n",
    "\n",
    "plt.xlabel('Learning times')\n",
    "plt.ylabel('R2 score')\n",
    "plt.title('R2 score according to Learning times')\n",
    "plt.show()"
   ]
  },
  {
   "cell_type": "markdown",
   "metadata": {},
   "source": [
    "### 실제 데이터 예측에 사용할 모델 추출\n",
    "\n",
    "- 위의 경향을 확인할 때 학습 회수 1000회를 기반으로 실제 데이터를 예측"
   ]
  },
  {
   "cell_type": "code",
   "execution_count": 4,
   "metadata": {},
   "outputs": [
    {
     "data": {
      "text/html": [
       "<style>#sk-container-id-1 {color: black;background-color: white;}#sk-container-id-1 pre{padding: 0;}#sk-container-id-1 div.sk-toggleable {background-color: white;}#sk-container-id-1 label.sk-toggleable__label {cursor: pointer;display: block;width: 100%;margin-bottom: 0;padding: 0.3em;box-sizing: border-box;text-align: center;}#sk-container-id-1 label.sk-toggleable__label-arrow:before {content: \"▸\";float: left;margin-right: 0.25em;color: #696969;}#sk-container-id-1 label.sk-toggleable__label-arrow:hover:before {color: black;}#sk-container-id-1 div.sk-estimator:hover label.sk-toggleable__label-arrow:before {color: black;}#sk-container-id-1 div.sk-toggleable__content {max-height: 0;max-width: 0;overflow: hidden;text-align: left;background-color: #f0f8ff;}#sk-container-id-1 div.sk-toggleable__content pre {margin: 0.2em;color: black;border-radius: 0.25em;background-color: #f0f8ff;}#sk-container-id-1 input.sk-toggleable__control:checked~div.sk-toggleable__content {max-height: 200px;max-width: 100%;overflow: auto;}#sk-container-id-1 input.sk-toggleable__control:checked~label.sk-toggleable__label-arrow:before {content: \"▾\";}#sk-container-id-1 div.sk-estimator input.sk-toggleable__control:checked~label.sk-toggleable__label {background-color: #d4ebff;}#sk-container-id-1 div.sk-label input.sk-toggleable__control:checked~label.sk-toggleable__label {background-color: #d4ebff;}#sk-container-id-1 input.sk-hidden--visually {border: 0;clip: rect(1px 1px 1px 1px);clip: rect(1px, 1px, 1px, 1px);height: 1px;margin: -1px;overflow: hidden;padding: 0;position: absolute;width: 1px;}#sk-container-id-1 div.sk-estimator {font-family: monospace;background-color: #f0f8ff;border: 1px dotted black;border-radius: 0.25em;box-sizing: border-box;margin-bottom: 0.5em;}#sk-container-id-1 div.sk-estimator:hover {background-color: #d4ebff;}#sk-container-id-1 div.sk-parallel-item::after {content: \"\";width: 100%;border-bottom: 1px solid gray;flex-grow: 1;}#sk-container-id-1 div.sk-label:hover label.sk-toggleable__label {background-color: #d4ebff;}#sk-container-id-1 div.sk-serial::before {content: \"\";position: absolute;border-left: 1px solid gray;box-sizing: border-box;top: 0;bottom: 0;left: 50%;z-index: 0;}#sk-container-id-1 div.sk-serial {display: flex;flex-direction: column;align-items: center;background-color: white;padding-right: 0.2em;padding-left: 0.2em;position: relative;}#sk-container-id-1 div.sk-item {position: relative;z-index: 1;}#sk-container-id-1 div.sk-parallel {display: flex;align-items: stretch;justify-content: center;background-color: white;position: relative;}#sk-container-id-1 div.sk-item::before, #sk-container-id-1 div.sk-parallel-item::before {content: \"\";position: absolute;border-left: 1px solid gray;box-sizing: border-box;top: 0;bottom: 0;left: 50%;z-index: -1;}#sk-container-id-1 div.sk-parallel-item {display: flex;flex-direction: column;z-index: 1;position: relative;background-color: white;}#sk-container-id-1 div.sk-parallel-item:first-child::after {align-self: flex-end;width: 50%;}#sk-container-id-1 div.sk-parallel-item:last-child::after {align-self: flex-start;width: 50%;}#sk-container-id-1 div.sk-parallel-item:only-child::after {width: 0;}#sk-container-id-1 div.sk-dashed-wrapped {border: 1px dashed gray;margin: 0 0.4em 0.5em 0.4em;box-sizing: border-box;padding-bottom: 0.4em;background-color: white;}#sk-container-id-1 div.sk-label label {font-family: monospace;font-weight: bold;display: inline-block;line-height: 1.2em;}#sk-container-id-1 div.sk-label-container {text-align: center;}#sk-container-id-1 div.sk-container {/* jupyter's `normalize.less` sets `[hidden] { display: none; }` but bootstrap.min.css set `[hidden] { display: none !important; }` so we also need the `!important` here to be able to override the default hidden behavior on the sphinx rendered scikit-learn.org. See: https://github.com/scikit-learn/scikit-learn/issues/21755 */display: inline-block !important;position: relative;}#sk-container-id-1 div.sk-text-repr-fallback {display: none;}</style><div id=\"sk-container-id-1\" class=\"sk-top-container\"><div class=\"sk-text-repr-fallback\"><pre>RandomForestRegressor(n_estimators=1000, random_state=42)</pre><b>In a Jupyter environment, please rerun this cell to show the HTML representation or trust the notebook. <br />On GitHub, the HTML representation is unable to render, please try loading this page with nbviewer.org.</b></div><div class=\"sk-container\" hidden><div class=\"sk-item\"><div class=\"sk-estimator sk-toggleable\"><input class=\"sk-toggleable__control sk-hidden--visually\" id=\"sk-estimator-id-1\" type=\"checkbox\" checked><label for=\"sk-estimator-id-1\" class=\"sk-toggleable__label sk-toggleable__label-arrow\">RandomForestRegressor</label><div class=\"sk-toggleable__content\"><pre>RandomForestRegressor(n_estimators=1000, random_state=42)</pre></div></div></div></div></div>"
      ],
      "text/plain": [
       "RandomForestRegressor(n_estimators=1000, random_state=42)"
      ]
     },
     "execution_count": 4,
     "metadata": {},
     "output_type": "execute_result"
    }
   ],
   "source": [
    "# 1000회 모델 별도로\n",
    "model = RandomForestRegressor(\n",
    "        n_estimators= 1000,\n",
    "        random_state=42\n",
    "    )\n",
    "\n",
    "model.fit(X_train, y_train)"
   ]
  },
  {
   "cell_type": "markdown",
   "metadata": {},
   "source": [
    "`neg_mean_absolute_error`\n",
    "- scoring함수를 적용한 방법\n",
    "- scoring함수는 큰 값일수록 좋은 값으로 인식하는데, MAE는 작은 값일 수록 좋은 값이기에 음수로 출력하는 것"
   ]
  },
  {
   "cell_type": "code",
   "execution_count": 29,
   "metadata": {},
   "outputs": [
    {
     "name": "stderr",
     "output_type": "stream",
     "text": [
      "c:\\Users\\CHOI Je Woo\\anaconda3\\Lib\\site-packages\\sklearn\\model_selection\\_validation.py:378: FitFailedWarning: \n",
      "4 fits failed out of a total of 5.\n",
      "The score on these train-test partitions for these parameters will be set to nan.\n",
      "If these failures are not expected, you can try to debug them by setting error_score='raise'.\n",
      "\n",
      "Below are more details about the failures:\n",
      "--------------------------------------------------------------------------------\n",
      "4 fits failed with the following error:\n",
      "Traceback (most recent call last):\n",
      "  File \"c:\\Users\\CHOI Je Woo\\anaconda3\\Lib\\site-packages\\sklearn\\model_selection\\_validation.py\", line 686, in _fit_and_score\n",
      "    estimator.fit(X_train, y_train, **fit_params)\n",
      "  File \"c:\\Users\\CHOI Je Woo\\anaconda3\\Lib\\site-packages\\sklearn\\ensemble\\_forest.py\", line 473, in fit\n",
      "    trees = Parallel(\n",
      "            ^^^^^^^^^\n",
      "  File \"c:\\Users\\CHOI Je Woo\\anaconda3\\Lib\\site-packages\\sklearn\\utils\\parallel.py\", line 63, in __call__\n",
      "    return super().__call__(iterable_with_config)\n",
      "           ^^^^^^^^^^^^^^^^^^^^^^^^^^^^^^^^^^^^^^\n",
      "  File \"c:\\Users\\CHOI Je Woo\\anaconda3\\Lib\\site-packages\\joblib\\parallel.py\", line 1088, in __call__\n",
      "    while self.dispatch_one_batch(iterator):\n",
      "          ^^^^^^^^^^^^^^^^^^^^^^^^^^^^^^^^^\n",
      "  File \"c:\\Users\\CHOI Je Woo\\anaconda3\\Lib\\site-packages\\joblib\\parallel.py\", line 901, in dispatch_one_batch\n",
      "    self._dispatch(tasks)\n",
      "  File \"c:\\Users\\CHOI Je Woo\\anaconda3\\Lib\\site-packages\\joblib\\parallel.py\", line 819, in _dispatch\n",
      "    job = self._backend.apply_async(batch, callback=cb)\n",
      "          ^^^^^^^^^^^^^^^^^^^^^^^^^^^^^^^^^^^^^^^^^^^^^\n",
      "  File \"c:\\Users\\CHOI Je Woo\\anaconda3\\Lib\\site-packages\\joblib\\_parallel_backends.py\", line 208, in apply_async\n",
      "    result = ImmediateResult(func)\n",
      "             ^^^^^^^^^^^^^^^^^^^^^\n",
      "  File \"c:\\Users\\CHOI Je Woo\\anaconda3\\Lib\\site-packages\\joblib\\_parallel_backends.py\", line 597, in __init__\n",
      "    self.results = batch()\n",
      "                   ^^^^^^^\n",
      "  File \"c:\\Users\\CHOI Je Woo\\anaconda3\\Lib\\site-packages\\joblib\\parallel.py\", line 288, in __call__\n",
      "    return [func(*args, **kwargs)\n",
      "           ^^^^^^^^^^^^^^^^^^^^^^\n",
      "  File \"c:\\Users\\CHOI Je Woo\\anaconda3\\Lib\\site-packages\\joblib\\parallel.py\", line 288, in <listcomp>\n",
      "    return [func(*args, **kwargs)\n",
      "            ^^^^^^^^^^^^^^^^^^^^^\n",
      "  File \"c:\\Users\\CHOI Je Woo\\anaconda3\\Lib\\site-packages\\sklearn\\utils\\parallel.py\", line 123, in __call__\n",
      "    return self.function(*args, **kwargs)\n",
      "           ^^^^^^^^^^^^^^^^^^^^^^^^^^^^^^\n",
      "  File \"c:\\Users\\CHOI Je Woo\\anaconda3\\Lib\\site-packages\\sklearn\\ensemble\\_forest.py\", line 184, in _parallel_build_trees\n",
      "    tree.fit(X, y, sample_weight=curr_sample_weight, check_input=False)\n",
      "  File \"c:\\Users\\CHOI Je Woo\\anaconda3\\Lib\\site-packages\\sklearn\\tree\\_classes.py\", line 1247, in fit\n",
      "    super().fit(\n",
      "  File \"c:\\Users\\CHOI Je Woo\\anaconda3\\Lib\\site-packages\\sklearn\\tree\\_classes.py\", line 379, in fit\n",
      "    builder.build(self.tree_, X, y, sample_weight)\n",
      "  File \"sklearn\\tree\\_tree.pyx\", line 147, in sklearn.tree._tree.DepthFirstTreeBuilder.build\n",
      "  File \"sklearn\\tree\\_tree.pyx\", line 242, in sklearn.tree._tree.DepthFirstTreeBuilder.build\n",
      "  File \"sklearn\\tree\\_tree.pyx\", line 748, in sklearn.tree._tree.Tree._add_node\n",
      "  File \"sklearn\\tree\\_tree.pyx\", line 719, in sklearn.tree._tree.Tree._resize_c\n",
      "  File \"sklearn\\tree\\_utils.pyx\", line 35, in sklearn.tree._utils.safe_realloc\n",
      "MemoryError: could not allocate 14680064 bytes\n",
      "\n",
      "  warnings.warn(some_fits_failed_message, FitFailedWarning)\n"
     ]
    }
   ],
   "source": [
    "#교차 검증은 pc 성능 문제로 확인에 오류가 있음\n",
    "scores = cross_val_score(model, X_train, y_train, cv=5, scoring='neg_mean_absolute_error')"
   ]
  },
  {
   "cell_type": "code",
   "execution_count": 28,
   "metadata": {},
   "outputs": [
    {
     "data": {
      "text/plain": [
       "array([-13448.71535389,             nan,             nan,             nan,\n",
       "                   nan])"
      ]
     },
     "execution_count": 28,
     "metadata": {},
     "output_type": "execute_result"
    }
   ],
   "source": [
    "scores"
   ]
  },
  {
   "cell_type": "code",
   "execution_count": 5,
   "metadata": {},
   "outputs": [
    {
     "name": "stdout",
     "output_type": "stream",
     "text": [
      "Train MAE: 4800.692735960915, Train R^2: 0.9960033319097924\n",
      "Test MAE: 12981.401067680375, Test R^2: 0.9711794014480211\n"
     ]
    }
   ],
   "source": [
    "y_pred_train = model.predict(X_train)\n",
    "y_pred_test = model.predict(X_test)\n",
    "\n",
    "train_mae = mean_absolute_error(y_train, y_pred_train)\n",
    "test_mae = mean_absolute_error(y_test, y_pred_test)\n",
    "train_r2 = r2_score(y_train, y_pred_train)\n",
    "test_r2 = r2_score(y_test, y_pred_test)\n",
    "\n",
    "print(f'Train MAE: {train_mae}, Train R^2: {train_r2}')\n",
    "print(f'Test MAE: {test_mae}, Test R^2: {test_r2}')"
   ]
  }
 ],
 "metadata": {
  "kernelspec": {
   "display_name": "base",
   "language": "python",
   "name": "python3"
  },
  "language_info": {
   "codemirror_mode": {
    "name": "ipython",
    "version": 3
   },
   "file_extension": ".py",
   "mimetype": "text/x-python",
   "name": "python",
   "nbconvert_exporter": "python",
   "pygments_lexer": "ipython3",
   "version": "3.11.7"
  }
 },
 "nbformat": 4,
 "nbformat_minor": 2
}
