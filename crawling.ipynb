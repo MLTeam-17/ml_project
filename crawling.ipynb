{
 "cells": [
  {
   "cell_type": "code",
   "execution_count": 62,
   "metadata": {},
   "outputs": [],
   "source": [
    "from selenium import webdriver\n",
    "from webdriver_manager.chrome import ChromeDriverManager\n",
    "from selenium.webdriver.common.by import By\n",
    "import time\n",
    "\n",
    "import pandas as pd"
   ]
  },
  {
   "cell_type": "code",
   "execution_count": 2,
   "metadata": {},
   "outputs": [],
   "source": [
    "browser = webdriver.Chrome()"
   ]
  },
  {
   "cell_type": "code",
   "execution_count": 3,
   "metadata": {},
   "outputs": [],
   "source": [
    "browser.get('https://kr.investing.com/economic-calendar/interest-rate-decision-168')"
   ]
  },
  {
   "cell_type": "code",
   "execution_count": 38,
   "metadata": {},
   "outputs": [
    {
     "ename": "ElementClickInterceptedException",
     "evalue": "Message: element click intercepted: Element <div id=\"showMoreHistory168\" class=\"showMoreReplies block\" onclick=\"ecEvent.moreHistory(168, this, 0)\">...</div> is not clickable at point (179, 843). Other element would receive the click: <div id=\"transparentInner\" style=\"cursor: pointer; visibility: inherit; width: 100%; height: 100%; background: rgba(0, 0, 0, 0.4); opacity: 1; user-select: none; -webkit-tap-highlight-color: rgba(0, 0, 0, 0); pointer-events: auto;\"></div>\n  (Session info: chrome=125.0.6422.142)\nStacktrace:\n\tGetHandleVerifier [0x00007FF71CB21F52+60322]\n\t(No symbol) [0x00007FF71CA9CEC9]\n\t(No symbol) [0x00007FF71C957EBA]\n\t(No symbol) [0x00007FF71C9AF32E]\n\t(No symbol) [0x00007FF71C9ACCF2]\n\t(No symbol) [0x00007FF71C9AA18B]\n\t(No symbol) [0x00007FF71C9A9356]\n\t(No symbol) [0x00007FF71C99B491]\n\t(No symbol) [0x00007FF71C9CC21A]\n\t(No symbol) [0x00007FF71C99ADB6]\n\t(No symbol) [0x00007FF71C9CC430]\n\t(No symbol) [0x00007FF71C9EBC80]\n\t(No symbol) [0x00007FF71C9CBFC3]\n\t(No symbol) [0x00007FF71C999617]\n\t(No symbol) [0x00007FF71C99A211]\n\tGetHandleVerifier [0x00007FF71CE394AD+3301629]\n\tGetHandleVerifier [0x00007FF71CE836D3+3605283]\n\tGetHandleVerifier [0x00007FF71CE79450+3563680]\n\tGetHandleVerifier [0x00007FF71CBD4326+790390]\n\t(No symbol) [0x00007FF71CAA750F]\n\t(No symbol) [0x00007FF71CAA3404]\n\t(No symbol) [0x00007FF71CAA3592]\n\t(No symbol) [0x00007FF71CA92F9F]\n\tBaseThreadInitThunk [0x00007FFF16EB7344+20]\n\tRtlUserThreadStart [0x00007FFF176C26B1+33]\n",
     "output_type": "error",
     "traceback": [
      "\u001b[1;31m---------------------------------------------------------------------------\u001b[0m",
      "\u001b[1;31mElementClickInterceptedException\u001b[0m          Traceback (most recent call last)",
      "Cell \u001b[1;32mIn[38], line 1\u001b[0m\n\u001b[1;32m----> 1\u001b[0m browser\u001b[38;5;241m.\u001b[39mfind_element(By\u001b[38;5;241m.\u001b[39mCLASS_NAME, \u001b[38;5;124m'\u001b[39m\u001b[38;5;124mshowMoreReplies.block\u001b[39m\u001b[38;5;124m'\u001b[39m)\u001b[38;5;241m.\u001b[39mclick()\n",
      "File \u001b[1;32mc:\\Users\\CHOI Je Woo\\anaconda3\\Lib\\site-packages\\selenium\\webdriver\\remote\\webelement.py:94\u001b[0m, in \u001b[0;36mWebElement.click\u001b[1;34m(self)\u001b[0m\n\u001b[0;32m     92\u001b[0m \u001b[38;5;28;01mdef\u001b[39;00m \u001b[38;5;21mclick\u001b[39m(\u001b[38;5;28mself\u001b[39m) \u001b[38;5;241m-\u001b[39m\u001b[38;5;241m>\u001b[39m \u001b[38;5;28;01mNone\u001b[39;00m:\n\u001b[0;32m     93\u001b[0m \u001b[38;5;250m    \u001b[39m\u001b[38;5;124;03m\"\"\"Clicks the element.\"\"\"\u001b[39;00m\n\u001b[1;32m---> 94\u001b[0m     \u001b[38;5;28mself\u001b[39m\u001b[38;5;241m.\u001b[39m_execute(Command\u001b[38;5;241m.\u001b[39mCLICK_ELEMENT)\n",
      "File \u001b[1;32mc:\\Users\\CHOI Je Woo\\anaconda3\\Lib\\site-packages\\selenium\\webdriver\\remote\\webelement.py:395\u001b[0m, in \u001b[0;36mWebElement._execute\u001b[1;34m(self, command, params)\u001b[0m\n\u001b[0;32m    393\u001b[0m     params \u001b[38;5;241m=\u001b[39m {}\n\u001b[0;32m    394\u001b[0m params[\u001b[38;5;124m\"\u001b[39m\u001b[38;5;124mid\u001b[39m\u001b[38;5;124m\"\u001b[39m] \u001b[38;5;241m=\u001b[39m \u001b[38;5;28mself\u001b[39m\u001b[38;5;241m.\u001b[39m_id\n\u001b[1;32m--> 395\u001b[0m \u001b[38;5;28;01mreturn\u001b[39;00m \u001b[38;5;28mself\u001b[39m\u001b[38;5;241m.\u001b[39m_parent\u001b[38;5;241m.\u001b[39mexecute(command, params)\n",
      "File \u001b[1;32mc:\\Users\\CHOI Je Woo\\anaconda3\\Lib\\site-packages\\selenium\\webdriver\\remote\\webdriver.py:347\u001b[0m, in \u001b[0;36mWebDriver.execute\u001b[1;34m(self, driver_command, params)\u001b[0m\n\u001b[0;32m    345\u001b[0m response \u001b[38;5;241m=\u001b[39m \u001b[38;5;28mself\u001b[39m\u001b[38;5;241m.\u001b[39mcommand_executor\u001b[38;5;241m.\u001b[39mexecute(driver_command, params)\n\u001b[0;32m    346\u001b[0m \u001b[38;5;28;01mif\u001b[39;00m response:\n\u001b[1;32m--> 347\u001b[0m     \u001b[38;5;28mself\u001b[39m\u001b[38;5;241m.\u001b[39merror_handler\u001b[38;5;241m.\u001b[39mcheck_response(response)\n\u001b[0;32m    348\u001b[0m     response[\u001b[38;5;124m\"\u001b[39m\u001b[38;5;124mvalue\u001b[39m\u001b[38;5;124m\"\u001b[39m] \u001b[38;5;241m=\u001b[39m \u001b[38;5;28mself\u001b[39m\u001b[38;5;241m.\u001b[39m_unwrap_value(response\u001b[38;5;241m.\u001b[39mget(\u001b[38;5;124m\"\u001b[39m\u001b[38;5;124mvalue\u001b[39m\u001b[38;5;124m\"\u001b[39m, \u001b[38;5;28;01mNone\u001b[39;00m))\n\u001b[0;32m    349\u001b[0m     \u001b[38;5;28;01mreturn\u001b[39;00m response\n",
      "File \u001b[1;32mc:\\Users\\CHOI Je Woo\\anaconda3\\Lib\\site-packages\\selenium\\webdriver\\remote\\errorhandler.py:229\u001b[0m, in \u001b[0;36mErrorHandler.check_response\u001b[1;34m(self, response)\u001b[0m\n\u001b[0;32m    227\u001b[0m         alert_text \u001b[38;5;241m=\u001b[39m value[\u001b[38;5;124m\"\u001b[39m\u001b[38;5;124malert\u001b[39m\u001b[38;5;124m\"\u001b[39m]\u001b[38;5;241m.\u001b[39mget(\u001b[38;5;124m\"\u001b[39m\u001b[38;5;124mtext\u001b[39m\u001b[38;5;124m\"\u001b[39m)\n\u001b[0;32m    228\u001b[0m     \u001b[38;5;28;01mraise\u001b[39;00m exception_class(message, screen, stacktrace, alert_text)  \u001b[38;5;66;03m# type: ignore[call-arg]  # mypy is not smart enough here\u001b[39;00m\n\u001b[1;32m--> 229\u001b[0m \u001b[38;5;28;01mraise\u001b[39;00m exception_class(message, screen, stacktrace)\n",
      "\u001b[1;31mElementClickInterceptedException\u001b[0m: Message: element click intercepted: Element <div id=\"showMoreHistory168\" class=\"showMoreReplies block\" onclick=\"ecEvent.moreHistory(168, this, 0)\">...</div> is not clickable at point (179, 843). Other element would receive the click: <div id=\"transparentInner\" style=\"cursor: pointer; visibility: inherit; width: 100%; height: 100%; background: rgba(0, 0, 0, 0.4); opacity: 1; user-select: none; -webkit-tap-highlight-color: rgba(0, 0, 0, 0); pointer-events: auto;\"></div>\n  (Session info: chrome=125.0.6422.142)\nStacktrace:\n\tGetHandleVerifier [0x00007FF71CB21F52+60322]\n\t(No symbol) [0x00007FF71CA9CEC9]\n\t(No symbol) [0x00007FF71C957EBA]\n\t(No symbol) [0x00007FF71C9AF32E]\n\t(No symbol) [0x00007FF71C9ACCF2]\n\t(No symbol) [0x00007FF71C9AA18B]\n\t(No symbol) [0x00007FF71C9A9356]\n\t(No symbol) [0x00007FF71C99B491]\n\t(No symbol) [0x00007FF71C9CC21A]\n\t(No symbol) [0x00007FF71C99ADB6]\n\t(No symbol) [0x00007FF71C9CC430]\n\t(No symbol) [0x00007FF71C9EBC80]\n\t(No symbol) [0x00007FF71C9CBFC3]\n\t(No symbol) [0x00007FF71C999617]\n\t(No symbol) [0x00007FF71C99A211]\n\tGetHandleVerifier [0x00007FF71CE394AD+3301629]\n\tGetHandleVerifier [0x00007FF71CE836D3+3605283]\n\tGetHandleVerifier [0x00007FF71CE79450+3563680]\n\tGetHandleVerifier [0x00007FF71CBD4326+790390]\n\t(No symbol) [0x00007FF71CAA750F]\n\t(No symbol) [0x00007FF71CAA3404]\n\t(No symbol) [0x00007FF71CAA3592]\n\t(No symbol) [0x00007FF71CA92F9F]\n\tBaseThreadInitThunk [0x00007FFF16EB7344+20]\n\tRtlUserThreadStart [0x00007FFF176C26B1+33]\n"
     ]
    }
   ],
   "source": [
    "browser.find_element(By.CLASS_NAME, 'showMoreReplies.block').click()"
   ]
  },
  {
   "cell_type": "code",
   "execution_count": 45,
   "metadata": {},
   "outputs": [
    {
     "data": {
      "text/plain": [
       "'2012년 12월 13일 02:30 0.25% 0.25% 0.25%'"
      ]
     },
     "execution_count": 45,
     "metadata": {},
     "output_type": "execute_result"
    }
   ],
   "source": [
    "browser.find_element(By.ID, 'historicEvent_23265').text"
   ]
  },
  {
   "cell_type": "code",
   "execution_count": 46,
   "metadata": {},
   "outputs": [],
   "source": [
    "table = browser.find_element(By.XPATH, '/html/body/div[6]/section/div[12]/table')"
   ]
  },
  {
   "cell_type": "code",
   "execution_count": 48,
   "metadata": {},
   "outputs": [
    {
     "data": {
      "text/plain": [
       "'발표일 시간 실제 예측 이전\\n2024년 12월 19일 04:00      \\n2024년 11월 08일 03:00      \\n2024년 09월 19일 03:00      \\n2024년 08월 01일 03:00      \\n2024년 06월 13일 03:00   5.50% 5.50%\\n2024년 05월 02일 03:00 5.50% 5.50% 5.50%\\n2024년 03월 21일 03:00 5.50% 5.50% 5.50%\\n2024년 02월 01일 04:00 5.50% 5.50% 5.50%\\n2023년 12월 14일 04:00 5.50% 5.50% 5.50%\\n2023년 11월 02일 03:00 5.50% 5.50% 5.50%\\n2023년 09월 21일 03:00 5.50% 5.50% 5.50%\\n2023년 07월 27일 03:00 5.50% 5.50% 5.25%\\n2023년 06월 15일 03:00 5.25% 5.25% 5.25%\\n2023년 05월 04일 03:00 5.25% 5.25% 5.00%\\n2023년 03월 23일 03:00 5.00% 5.00% 4.75%\\n2023년 02월 02일 04:00 4.75% 4.75% 4.50%\\n2022년 12월 15일 04:00 4.50% 4.50% 4.00%\\n2022년 11월 03일 03:00 4.00% 4.00% 3.25%\\n2022년 09월 22일 03:00 3.25% 3.25% 2.50%\\n2022년 07월 28일 03:00 2.50% 2.50% 1.75%\\n2022년 06월 16일 03:00 1.75% 1.50% 1.00%\\n2022년 05월 05일 03:00 1.00% 1.00% 0.50%\\n2022년 03월 17일 03:00 0.50% 0.50% 0.25%\\n2022년 01월 27일 04:00 0.25% 0.25% 0.25%\\n2021년 12월 16일 04:00 0.25% 0.25% 0.25%\\n2021년 11월 04일 03:00 0.25% 0.25% 0.25%\\n2021년 09월 23일 03:00 0.25% 0.25% 0.25%\\n2021년 07월 29일 03:00 0.25% 0.25% 0.25%\\n2021년 06월 17일 03:00 0.25% 0.25% 0.25%\\n2021년 04월 29일 03:00 0.25% 0.25% 0.25%\\n2021년 03월 18일 03:00 0.25% 0.25% 0.25%\\n2021년 01월 28일 04:00 0.25% 0.25% 0.25%\\n2020년 12월 17일 04:00 0.25% 0.25% 0.25%\\n2020년 11월 06일 04:00 0.25% 0.25% 0.25%\\n2020년 09월 17일 03:00 0.25% 0.25% 0.25%\\n2020년 07월 30일 03:00 0.25% 0.25% 0.25%\\n2020년 06월 11일 03:00 0.25% 0.25% 0.25%\\n2020년 04월 30일 03:00 0.25% 0.25% 0.25%\\n2020년 03월 16일 06:00 0.25%   1.25%\\n2020년 03월 04일 00:00 1.25%   1.75%\\n2020년 01월 30일 04:00 1.75% 1.75% 1.75%\\n2019년 12월 12일 04:00 1.75% 1.75% 1.75%\\n2019년 10월 31일 03:00 1.75% 1.75% 2.00%\\n2019년 09월 19일 03:00 2.00% 2.00% 2.25%\\n2019년 08월 01일 03:00 2.25% 2.25% 2.50%\\n2019년 06월 20일 03:00 2.50% 2.50% 2.50%\\n2019년 05월 02일 03:00 2.50% 2.50% 2.50%\\n2019년 03월 21일 03:00 2.50% 2.50% 2.50%\\n2019년 01월 31일 04:00 2.50% 2.50% 2.50%\\n2018년 12월 20일 04:00 2.50% 2.50% 2.25%\\n2018년 11월 09일 04:00 2.25% 2.25% 2.25%\\n2018년 09월 27일 03:00 2.25% 2.25% 2.00%\\n2018년 08월 02일 03:00 2.00% 2.00% 2.00%\\n2018년 06월 14일 03:00 2.00% 2.00% 1.75%\\n2018년 05월 03일 03:00 1.75% 1.75% 1.75%\\n2018년 03월 22일 03:00 1.75% 1.75% 1.50%\\n2018년 02월 01일 04:00 1.50% 1.50% 1.50%\\n2017년 12월 14일 04:00 1.50% 1.50% 1.25%\\n2017년 11월 02일 03:00 1.25% 1.25% 1.25%\\n2017년 09월 21일 03:00 1.25% 1.25% 1.25%\\n2017년 07월 27일 03:00 1.25% 1.25% 1.25%\\n2017년 06월 15일 03:00 1.25% 1.25% 1.00%\\n2017년 05월 04일 03:00 1.00% 1.00% 1.00%\\n2017년 03월 16일 03:00 1.00% 1.00% 0.75%\\n2017년 02월 02일 04:00 0.75% 0.75% 0.75%\\n2016년 12월 15일 04:00 0.75% 0.75% 0.50%\\n2016년 11월 03일 03:00 0.50% 0.50% 0.50%\\n2016년 09월 22일 03:00 0.50% 0.50% 0.50%\\n2016년 07월 28일 03:00 0.50% 0.50% 0.50%\\n2016년 06월 16일 03:00 0.50% 0.50% 0.50%\\n2016년 04월 28일 03:00 0.50% 0.50% 0.50%\\n2016년 03월 17일 03:00 0.50% 0.50% 0.50%\\n2016년 01월 28일 04:00 0.50% 0.50% 0.50%\\n2015년 12월 17일 04:00 0.50% 0.50% 0.25%\\n2015년 10월 29일 03:00 0.25% 0.25% 0.25%\\n2015년 09월 18일 03:00 0.25% 0.25% 0.25%\\n2015년 07월 30일 03:00 0.25% 0.25% 0.25%\\n2015년 06월 18일 03:00 0.25% 0.25% 0.25%\\n2015년 04월 30일 03:00 0.25% 0.25% 0.25%\\n2015년 03월 19일 03:00 0.25% 0.25% 0.25%\\n2015년 01월 29일 04:00 0.25% 0.25% 0.25%\\n2014년 12월 18일 04:00 0.25% 0.25% 0.25%\\n2014년 10월 30일 03:00 0.25% 0.25% 0.25%\\n2014년 09월 18일 03:00 0.25% 0.25% 0.25%\\n2014년 07월 31일 03:00 0.25% 0.25% 0.25%\\n2014년 06월 19일 03:00 0.25% 0.25% 0.25%\\n2014년 05월 01일 03:00 0.25% 0.25% 0.25%\\n2014년 03월 20일 03:00 0.25% 0.25% 0.25%\\n2014년 01월 30일 04:00 0.25% 0.25% 0.25%\\n2013년 12월 19일 04:00 0.25% 0.25% 0.25%\\n2013년 10월 31일 03:00 0.25% 0.25% 0.25%\\n2013년 09월 19일 03:00 0.25% 0.25% 0.25%\\n2013년 08월 01일 03:00 0.25% 0.25% 0.25%\\n2013년 06월 20일 03:00 0.25% 0.25% 0.25%\\n2013년 05월 02일 03:00 0.25% 0.25% 0.25%\\n2013년 03월 21일 03:00 0.25% 0.25% 0.25%\\n2013년 01월 31일 04:15 0.25% 0.25% 0.25%\\n2012년 12월 13일 02:30 0.25% 0.25% 0.25%\\n2012년 10월 25일 03:15 0.25% 0.25% 0.25%\\n2012년 09월 14일 01:30 0.25% 0.25% 0.25%\\n2012년 08월 02일 03:15 0.25% 0.25% 0.25%\\n2012년 06월 21일 01:30 0.25% 0.25% 0.25%\\n2012년 04월 26일 01:30 0.25% 0.25% 0.25%\\n2012년 03월 14일 03:15 0.25% 0.25% 0.25%\\n2012년 01월 26일 02:30 0.25% 0.25% 0.25%\\n2011년 12월 14일 04:15 0.25% 0.25% 0.25%\\n2011년 11월 03일 01:30 0.25% 0.25% 0.25%\\n2011년 09월 22일 03:15 0.25% 0.25% 0.25%\\n2011년 08월 10일 03:15 0.25% 0.25% 0.25%\\n2011년 06월 23일 01:30 0.25% 0.25% 0.25%\\n2011년 04월 28일 01:30 0.25% 0.25% 0.25%\\n2011년 03월 16일 03:15 0.25% 0.25% 0.25%\\n2011년 01월 27일 04:15 0.25% 0.25% 0.25%\\n2010년 12월 15일 04:15 0.25% 0.25% 0.25%\\n2010년 11월 04일 03:15 0.25% 0.25% 0.25%\\n2010년 09월 22일 03:15 0.25% 0.25% 0.25%\\n2010년 08월 11일 03:15 0.25% 0.25% 0.25%\\n2010년 06월 24일 03:15 0.25% 0.25% 0.25%\\n2010년 04월 29일 03:15 0.25% 0.25% 0.25%\\n2010년 03월 17일 03:15 0.25% 0.25% 0.25%\\n2010년 01월 28일 04:15 0.25% 0.25% 0.25%\\n2009년 12월 17일 04:15 0.25% 0.25% 0.25%\\n2009년 11월 05일 04:15 0.25% 0.25% 0.25%\\n2009년 09월 24일 03:15 0.25% 0.25% 0.25%\\n2009년 08월 13일 03:15 0.25% 0.25% 0.25%\\n2009년 06월 25일 03:15 0.25% 0.25% 0.25%\\n2009년 04월 30일 03:15 0.25% 0.25% 0.25%\\n2009년 03월 19일 03:15 0.25% 0.25% 0.25%\\n2009년 01월 29일 04:15 0.25% 0.25% 0.25%\\n2008년 12월 17일 04:15 0.25% 0.50% 1.00%\\n2008년 10월 30일 03:15 1.00% 1.00% 1.50%\\n2008년 10월 08일 20:00 1.50%   2.00%\\n2008년 09월 17일 03:15 2.00% 2.00% 2.00%\\n2008년 08월 06일 03:15 2.00%   2.00%\\n2008년 06월 26일 03:15 2.00% 2.00% 2.00%\\n2008년 05월 01일 03:15 2.00% 2.00% 2.25%\\n2008년 03월 19일 03:15 2.25% 2.50% 3.00%\\n2008년 01월 31일 03:15 3.00%   3.50%\\n2008년 01월 23일 03:15 3.50%   4.25%\\n2007년 12월 12일 03:00 4.25%   4.50%\\n2007년 11월 01일 03:00 4.50%   4.75%\\n2007년 09월 19일 03:00 4.75%   5.25%\\n2006년 06월 30일 03:00 5.25%   5.00%\\n2006년 05월 11일 03:00 5.00%   4.75%\\n2006년 03월 29일 03:00 4.75%   4.50%\\n2006년 02월 01일 03:00 4.50%   4.25%\\n2005년 12월 14일 03:00 4.25%   4.00%\\n2005년 11월 02일 03:00 4.00%   3.75%\\n2005년 09월 21일 03:00 3.75%   3.50%\\n2005년 08월 10일 03:00 3.50%   3.25%\\n2005년 07월 01일 03:00 3.25%   3.00%\\n2005년 05월 04일 03:00 3.00%   2.75%\\n2005년 03월 23일 03:00 2.75%   2.50%\\n2005년 02월 03일 03:00 2.50%   2.25%\\n2004년 12월 15일 03:00 2.25%   2.00%\\n2004년 11월 11일 03:00 2.00%   1.75%\\n2004년 09월 22일 03:00 1.75%   1.50%\\n2004년 08월 11일 03:00 1.50%   1.25%\\n2004년 07월 01일 03:00 1.25%   1.00%\\n2003년 06월 26일 03:00 1.00%   1.25%\\n2002년 11월 07일 03:00 1.25%   1.75%\\n2001년 12월 12일 03:00 1.75%   2.00%\\n2001년 11월 07일 03:00 2.00%   2.50%\\n2001년 10월 03일 03:00 2.50%   3.00%\\n2001년 09월 18일 03:00 3.00%   3.50%\\n2001년 08월 22일 03:00 3.50%   3.75%\\n2001년 06월 28일 03:00 3.75%   4.00%\\n2001년 05월 16일 03:00 4.00%   4.50%\\n2001년 04월 19일 03:00 4.50%   5.00%\\n2001년 03월 21일 03:00 5.00%   5.50%\\n2001년 02월 01일 03:00 5.50%   6.00%\\n2001년 01월 04일 03:00 6.00%   6.50%\\n2000년 05월 17일 03:00 6.50%   6.00%\\n2000년 03월 22일 03:00 6.00%   5.75%\\n2000년 02월 03일 03:00 5.75%   5.50%\\n1999년 11월 17일 03:00 5.50%   5.25%\\n1999년 08월 25일 03:00 5.25%   5.00%\\n1999년 07월 01일 03:00 5.00%   4.75%\\n1998년 11월 18일 03:00 4.75%   5.00%\\n1998년 10월 16일 03:00 5.00%   5.25%'"
      ]
     },
     "execution_count": 48,
     "metadata": {},
     "output_type": "execute_result"
    }
   ],
   "source": [
    "table.text"
   ]
  },
  {
   "cell_type": "code",
   "execution_count": 91,
   "metadata": {},
   "outputs": [],
   "source": [
    "date_list = []\n",
    "interest_rate = []\n",
    "\n",
    "\n",
    "tbody = table.find_element(By.TAG_NAME, \"tbody\")\n",
    "\n",
    "rows = tbody.find_elements(By.TAG_NAME, \"tr\")\n",
    "for index, value in enumerate(rows):\n",
    "    tmp_text = value.find_elements(By.TAG_NAME, \"td\")[0].text\n",
    "    tmp_text = tmp_text.replace('년 ', '-')\n",
    "    tmp_text = tmp_text.replace('월 ', '-')\n",
    "    tmp_text = tmp_text.replace('일', '')\n",
    "\n",
    "    # print(tmp_text)\n",
    "\n",
    "    if pd.Timestamp(tmp_text) < pd.Timestamp('2013-01-01') and \\\n",
    "        pd.Timestamp(tmp_text) >= pd.Timestamp('2000-01-01'):\n",
    "\n",
    "        date_list.append(pd.Timestamp(tmp_text))\n",
    "        interest_rate.append(value.find_elements(By.TAG_NAME, \"td\")[2].text.replace('%', ''))"
   ]
  },
  {
   "cell_type": "code",
   "execution_count": 94,
   "metadata": {},
   "outputs": [
    {
     "data": {
      "text/plain": [
       "str"
      ]
     },
     "execution_count": 94,
     "metadata": {},
     "output_type": "execute_result"
    }
   ],
   "source": [
    "type(interest_rate[0])"
   ]
  },
  {
   "cell_type": "code",
   "execution_count": 95,
   "metadata": {},
   "outputs": [
    {
     "data": {
      "text/html": [
       "<div>\n",
       "<style scoped>\n",
       "    .dataframe tbody tr th:only-of-type {\n",
       "        vertical-align: middle;\n",
       "    }\n",
       "\n",
       "    .dataframe tbody tr th {\n",
       "        vertical-align: top;\n",
       "    }\n",
       "\n",
       "    .dataframe thead th {\n",
       "        text-align: right;\n",
       "    }\n",
       "</style>\n",
       "<table border=\"1\" class=\"dataframe\">\n",
       "  <thead>\n",
       "    <tr style=\"text-align: right;\">\n",
       "      <th></th>\n",
       "      <th>interest_rate_date</th>\n",
       "      <th>interest_rate</th>\n",
       "    </tr>\n",
       "  </thead>\n",
       "  <tbody>\n",
       "    <tr>\n",
       "      <th>0</th>\n",
       "      <td>2012-12-13</td>\n",
       "      <td>0.25</td>\n",
       "    </tr>\n",
       "    <tr>\n",
       "      <th>1</th>\n",
       "      <td>2012-10-25</td>\n",
       "      <td>0.25</td>\n",
       "    </tr>\n",
       "    <tr>\n",
       "      <th>2</th>\n",
       "      <td>2012-09-14</td>\n",
       "      <td>0.25</td>\n",
       "    </tr>\n",
       "    <tr>\n",
       "      <th>3</th>\n",
       "      <td>2012-08-02</td>\n",
       "      <td>0.25</td>\n",
       "    </tr>\n",
       "    <tr>\n",
       "      <th>4</th>\n",
       "      <td>2012-06-21</td>\n",
       "      <td>0.25</td>\n",
       "    </tr>\n",
       "    <tr>\n",
       "      <th>...</th>\n",
       "      <td>...</td>\n",
       "      <td>...</td>\n",
       "    </tr>\n",
       "    <tr>\n",
       "      <th>73</th>\n",
       "      <td>2001-02-01</td>\n",
       "      <td>5.50</td>\n",
       "    </tr>\n",
       "    <tr>\n",
       "      <th>74</th>\n",
       "      <td>2001-01-04</td>\n",
       "      <td>6.00</td>\n",
       "    </tr>\n",
       "    <tr>\n",
       "      <th>75</th>\n",
       "      <td>2000-05-17</td>\n",
       "      <td>6.50</td>\n",
       "    </tr>\n",
       "    <tr>\n",
       "      <th>76</th>\n",
       "      <td>2000-03-22</td>\n",
       "      <td>6.00</td>\n",
       "    </tr>\n",
       "    <tr>\n",
       "      <th>77</th>\n",
       "      <td>2000-02-03</td>\n",
       "      <td>5.75</td>\n",
       "    </tr>\n",
       "  </tbody>\n",
       "</table>\n",
       "<p>78 rows × 2 columns</p>\n",
       "</div>"
      ],
      "text/plain": [
       "   interest_rate_date interest_rate\n",
       "0          2012-12-13          0.25\n",
       "1          2012-10-25          0.25\n",
       "2          2012-09-14          0.25\n",
       "3          2012-08-02          0.25\n",
       "4          2012-06-21          0.25\n",
       "..                ...           ...\n",
       "73         2001-02-01          5.50\n",
       "74         2001-01-04          6.00\n",
       "75         2000-05-17          6.50\n",
       "76         2000-03-22          6.00\n",
       "77         2000-02-03          5.75\n",
       "\n",
       "[78 rows x 2 columns]"
      ]
     },
     "execution_count": 95,
     "metadata": {},
     "output_type": "execute_result"
    }
   ],
   "source": [
    "df = pd.DataFrame(\n",
    "                {'interest_rate_date' : date_list,\n",
    "                 'interest_rate' : interest_rate\n",
    "                 }\n",
    "                )\n",
    "\n",
    "df"
   ]
  },
  {
   "cell_type": "code",
   "execution_count": 98,
   "metadata": {},
   "outputs": [
    {
     "data": {
      "text/plain": [
       "str"
      ]
     },
     "execution_count": 98,
     "metadata": {},
     "output_type": "execute_result"
    }
   ],
   "source": [
    "type(df['interest_rate'][0])"
   ]
  },
  {
   "cell_type": "code",
   "execution_count": 96,
   "metadata": {},
   "outputs": [],
   "source": [
    "df.to_csv('./data/interest_rate.csv', sep=',', index=False)"
   ]
  }
 ],
 "metadata": {
  "kernelspec": {
   "display_name": "base",
   "language": "python",
   "name": "python3"
  },
  "language_info": {
   "codemirror_mode": {
    "name": "ipython",
    "version": 3
   },
   "file_extension": ".py",
   "mimetype": "text/x-python",
   "name": "python",
   "nbconvert_exporter": "python",
   "pygments_lexer": "ipython3",
   "version": "3.11.7"
  }
 },
 "nbformat": 4,
 "nbformat_minor": 2
}
